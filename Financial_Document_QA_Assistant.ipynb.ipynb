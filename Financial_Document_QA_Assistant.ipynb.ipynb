{
 "cells": [
  {
   "cell_type": "code",
   "execution_count": 2,
   "id": "5041053f-faaa-4f59-98b3-57b4a668f834",
   "metadata": {},
   "outputs": [
    {
     "name": "stdout",
     "output_type": "stream",
     "text": [
      "Requirement already satisfied: pandas in c:\\users\\acer\\anaconda3\\lib\\site-packages (2.2.2)\n",
      "Requirement already satisfied: PyPDF2 in c:\\users\\acer\\anaconda3\\lib\\site-packages (3.0.1)\n",
      "Requirement already satisfied: openpyxl in c:\\users\\acer\\anaconda3\\lib\\site-packages (3.1.2)\n",
      "Requirement already satisfied: numpy>=1.26.0 in c:\\users\\acer\\anaconda3\\lib\\site-packages (from pandas) (1.26.4)\n",
      "Requirement already satisfied: python-dateutil>=2.8.2 in c:\\users\\acer\\anaconda3\\lib\\site-packages (from pandas) (2.9.0.post0)\n",
      "Requirement already satisfied: pytz>=2020.1 in c:\\users\\acer\\anaconda3\\lib\\site-packages (from pandas) (2024.1)\n",
      "Requirement already satisfied: tzdata>=2022.7 in c:\\users\\acer\\anaconda3\\lib\\site-packages (from pandas) (2023.3)\n",
      "Requirement already satisfied: et-xmlfile in c:\\users\\acer\\anaconda3\\lib\\site-packages (from openpyxl) (1.1.0)\n",
      "Requirement already satisfied: six>=1.5 in c:\\users\\acer\\anaconda3\\lib\\site-packages (from python-dateutil>=2.8.2->pandas) (1.16.0)\n"
     ]
    }
   ],
   "source": [
    "!pip install pandas PyPDF2 openpyxl"
   ]
  },
  {
   "cell_type": "code",
   "execution_count": 4,
   "id": "9f35b14c-8d18-4fb2-aec8-014a858f6506",
   "metadata": {},
   "outputs": [],
   "source": [
    "import pandas as pd\n",
    "from PyPDF2 import PdfReader"
   ]
  },
  {
   "cell_type": "code",
   "execution_count": 6,
   "id": "c60ee146-7519-4d4e-a447-4d063e2f04af",
   "metadata": {},
   "outputs": [],
   "source": [
    "def extract_text_from_pdf(file_path):\n",
    "    reader = PdfReader(file_path)\n",
    "    text = \"\"\n",
    "    for page in reader.pages:\n",
    "        page_text = page.extract_text()\n",
    "        if page_text:\n",
    "            text += page_text + \"\\n\"\n",
    "    return text\n"
   ]
  },
  {
   "cell_type": "code",
   "execution_count": 8,
   "id": "88b586bf-8199-4b7a-9d75-ed07940a3a2e",
   "metadata": {},
   "outputs": [],
   "source": [
    "def extract_data_from_excel(file_path):\n",
    "    xls = pd.ExcelFile(file_path)\n",
    "    data = {}\n",
    "    for sheet_name in xls.sheet_names:\n",
    "        df = pd.read_excel(xls, sheet_name)\n",
    "        data[sheet_name] = df\n",
    "    return data\n"
   ]
  },
  {
   "cell_type": "code",
   "execution_count": null,
   "id": "2c628b49-8c66-49ac-a8e8-46fde2426f60",
   "metadata": {},
   "outputs": [],
   "source": [
    "file_path = input(\"Enter the path of your PDF or Excel file: \")\n",
    "\n",
    "if file_path.endswith(\".pdf\"):\n",
    "    text_data = extract_text_from_pdf(file_path)\n",
    "    print(\"✅ PDF extracted successfully! First 500 characters:\\n\")\n",
    "    print(text_data[:500])\n",
    "elif file_path.endswith(\".xlsx\"):\n",
    "    excel_data = extract_data_from_excel(file_path)\n",
    "    print(\"✅ Excel extracted successfully! Sheet names:\")\n",
    "    print(list(excel_data.keys()))\n",
    "    # Display first 5 rows of each sheet\n",
    "    for sheet, df in excel_data.items():\n",
    "        print(f\"\\nSheet: {sheet}\")\n",
    "        display(df.head())\n",
    "else:\n",
    "    print(\"❌ Unsupported file type. Please use PDF or Excel.\")\n"
   ]
  },
  {
   "cell_type": "code",
   "execution_count": 1,
   "id": "1ea3bab4-73cb-4818-97c9-f0d04230439d",
   "metadata": {},
   "outputs": [
    {
     "name": "stdin",
     "output_type": "stream",
     "text": [
      "\n",
      "Ask about revenue, profit, or expenses (type 'exit' to quit):  exit\n"
     ]
    },
    {
     "name": "stdout",
     "output_type": "stream",
     "text": [
      "Exiting Q&A. ✅\n"
     ]
    }
   ],
   "source": [
    "while True:\n",
    "    question = input(\"\\nAsk about revenue, profit, or expenses (type 'exit' to quit): \").lower()\n",
    "    if question == \"exit\":\n",
    "        print(\"Exiting Q&A. ✅\")\n",
    "        break\n",
    "    \n",
    "    if \"revenue\" in question:\n",
    "        if 'text_data' in globals():\n",
    "            print(\"\\nRevenue info from PDF:\")\n",
    "            lines = text_data.split(\"\\n\")\n",
    "            revenue_lines = [l for l in lines if \"revenue\" in l.lower()]\n",
    "            print(\"\\n\".join(revenue_lines[:5]) or \"No revenue info found.\")\n",
    "        elif 'excel_data' in globals():\n",
    "            print(\"\\nRevenue info from Excel:\")\n",
    "            for sheet, df in excel_data.items():\n",
    "                revenue_rows = df[df.apply(lambda row: row.astype(str).str.contains('revenue', case=False).any(), axis=1)]\n",
    "                if not revenue_rows.empty:\n",
    "                    display(revenue_rows)\n",
    "                else:\n",
    "                    print(f\"No revenue info found in sheet '{sheet}'.\")\n",
    "    \n",
    "    elif \"profit\" in question:\n",
    "        if 'text_data' in globals():\n",
    "            print(\"\\nProfit info from PDF:\")\n",
    "            lines = text_data.split(\"\\n\")\n",
    "            profit_lines = [l for l in lines if \"profit\" in l.lower()]\n",
    "            print(\"\\n\".join(profit_lines[:5]) or \"No profit info found.\")\n",
    "        elif 'excel_data' in globals():\n",
    "            print(\"\\nProfit info from Excel:\")\n",
    "            for sheet, df in excel_data.items():\n",
    "                profit_rows = df[df.apply(lambda row: row.astype(str).str.contains('profit', case=False).any(), axis=1)]\n",
    "                if not profit_rows.empty:\n",
    "                    display(profit_rows)\n",
    "                else:\n",
    "                    print(f\"No profit info found in sheet '{sheet}'.\")\n",
    "    \n",
    "    elif \"expense\" in question:\n",
    "        if 'text_data' in globals():\n",
    "            print(\"\\nExpenses info from PDF:\")\n",
    "            lines = text_data.split(\"\\n\")\n",
    "            expense_lines = [l for l in lines if \"expense\" in l.lower()]\n",
    "            print(\"\\n\".join(expense_lines[:5]) or \"No expense info found.\")\n",
    "        elif 'excel_data' in globals():\n",
    "            print(\"\\nExpenses info from Excel:\")\n",
    "            for sheet, df in excel_data.items():\n",
    "                expense_rows = df[df.apply(lambda row: row.astype(str).str.contains('expense', case=False).any(), axis=1)]\n",
    "                if not expense_rows.empty:\n",
    "                    display(expense_rows)\n",
    "                else:\n",
    "                    print(f\"No expense info found in sheet '{sheet}'.\")\n",
    "    \n",
    "    else:\n",
    "        print(\"Sorry, I can only answer questions about revenue, profit, or expenses.\")\n"
   ]
  },
  {
   "cell_type": "code",
   "execution_count": null,
   "id": "b66abacb-d64b-4c4e-ae8f-ecd08dde7eb0",
   "metadata": {},
   "outputs": [],
   "source": []
  }
 ],
 "metadata": {
  "kernelspec": {
   "display_name": "Python 3 (ipykernel)",
   "language": "python",
   "name": "python3"
  },
  "language_info": {
   "codemirror_mode": {
    "name": "ipython",
    "version": 3
   },
   "file_extension": ".py",
   "mimetype": "text/x-python",
   "name": "python",
   "nbconvert_exporter": "python",
   "pygments_lexer": "ipython3",
   "version": "3.12.4"
  }
 },
 "nbformat": 4,
 "nbformat_minor": 5
}
